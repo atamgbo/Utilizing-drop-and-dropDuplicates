{
 "cells": [
  {
   "cell_type": "code",
   "execution_count": 30,
   "id": "a6d1a46f",
   "metadata": {},
   "outputs": [],
   "source": [
    "from pyspark.sql import SparkSession\n",
    "import getpass\n",
    "username = getpass.getuser()\n",
    "spark = SparkSession. \\\n",
    "    builder. \\\n",
    "    config('spark.ui.port','0'). \\\n",
    "    config(\"spark.sql.warehouse.dir\",f\"/user/itv010130/warehouse\"). \\\n",
    "    enableHiveSupport(). \\\n",
    "    master('yarn'). \\\n",
    "    getOrCreate()"
   ]
  },
  {
   "cell_type": "code",
   "execution_count": 31,
   "id": "fab43912",
   "metadata": {},
   "outputs": [
    {
     "data": {
      "text/html": [
       "\n",
       "            <div>\n",
       "                <p><b>SparkSession - hive</b></p>\n",
       "                \n",
       "        <div>\n",
       "            <p><b>SparkContext</b></p>\n",
       "\n",
       "            <p><a href=\"http://g01.itversity.com:33919\">Spark UI</a></p>\n",
       "\n",
       "            <dl>\n",
       "              <dt>Version</dt>\n",
       "                <dd><code>v3.1.2</code></dd>\n",
       "              <dt>Master</dt>\n",
       "                <dd><code>yarn</code></dd>\n",
       "              <dt>AppName</dt>\n",
       "                <dd><code>pyspark-shell</code></dd>\n",
       "            </dl>\n",
       "        </div>\n",
       "        \n",
       "            </div>\n",
       "        "
      ],
      "text/plain": [
       "<pyspark.sql.session.SparkSession at 0x7f58443a8f98>"
      ]
     },
     "execution_count": 31,
     "metadata": {},
     "output_type": "execute_result"
    }
   ],
   "source": [
    "spark"
   ]
  },
  {
   "cell_type": "markdown",
   "id": "fcd1353a",
   "metadata": {},
   "source": [
    "### 1. Creating dataFrame for below data"
   ]
  },
  {
   "cell_type": "code",
   "execution_count": 4,
   "id": "4def2be7",
   "metadata": {},
   "outputs": [],
   "source": [
    "weather = [\n",
    "(\"Spring\",12.3),\n",
    "(\"Summer\",10.5),\n",
    "(\"Autumn\",8.2),\n",
    "(\"Winter\",15.1),\n",
    "]"
   ]
  },
  {
   "cell_type": "code",
   "execution_count": 5,
   "id": "1fa1fbce",
   "metadata": {},
   "outputs": [],
   "source": [
    "weather_table = spark.createDataFrame(weather).toDF(\"season\",\"windspeed\")"
   ]
  },
  {
   "cell_type": "code",
   "execution_count": 6,
   "id": "edd6cdc6",
   "metadata": {},
   "outputs": [
    {
     "name": "stdout",
     "output_type": "stream",
     "text": [
      "+------+---------+\n",
      "|season|windspeed|\n",
      "+------+---------+\n",
      "|Spring|     12.3|\n",
      "|Summer|     10.5|\n",
      "|Autumn|      8.2|\n",
      "|Winter|     15.1|\n",
      "+------+---------+\n",
      "\n"
     ]
    }
   ],
   "source": [
    "weather_table.show()"
   ]
  },
  {
   "cell_type": "code",
   "execution_count": 7,
   "id": "6248befc",
   "metadata": {},
   "outputs": [
    {
     "name": "stdout",
     "output_type": "stream",
     "text": [
      "-rw-r--r--   3 itv005857 supergroup        925 2023-05-23 13:05 /public/****/datasets/library_data.json\n"
     ]
    }
   ],
   "source": [
    "! hadoop fs -ls /public/****/datasets/library_data.json"
   ]
  },
  {
   "cell_type": "code",
   "execution_count": 8,
   "id": "6118ae35",
   "metadata": {},
   "outputs": [
    {
     "name": "stdout",
     "output_type": "stream",
     "text": [
      "{\"library_name\": \"Central Library\",\"location\": \"City Center\",\"books\": [{\"book_id\": \"B001\",\"book_name\": \"The Great Gatsby\",\"author\": \"F. Scott Fitzgerald\",\"copies_available\": 5},{\"book_id\": \"B002\",\"book_name\": \"To Kill a Mockingbird\",\"author\": \"Harper Lee\",\"copies_available\": 3}],\"members\": [{\"member_id\": \"M001\",\"member_name\": \"John Smith\",\"age\": 28,\"books_borrowed\": [\"B001\"]},{\"member_id\": \"M002\",\"member_name\": \"Emma Johnson\",\"age\": 35,\"books_borrowed\": []}]},\n",
      "{\"library_name\": \"Community Library\",\"location\": \"Suburb\",\"books\": [{\"book_id\": \"B003\",\"book_name\": \"1984\",\"author\": \"George Orwell\",\"copies_available\": 2},{\"book_id\": \"B004\",\"book_name\": \"Pride and Prejudice\",\"author\": \"Jane Austen\",\"copies_available\": 4}],\"members\": [{\"member_id\": \"M003\",\"member_name\": \"Michael Brown\",\"age\": 42,\"books_borrowed\": [\"B003\",\"B004\"]},{\"member_id\": \"M004\",\"member_name\": \"Sophia Davis\",\"age\": 31,\"books_borrowed\": [\"B004\"]}]}\n"
     ]
    }
   ],
   "source": [
    "! hadoop fs -cat /public/****/datasets/library_data.json"
   ]
  },
  {
   "cell_type": "markdown",
   "id": "c2e28413",
   "metadata": {},
   "source": [
    "### 2. Loading and enforcing scema using StructType"
   ]
  },
  {
   "cell_type": "code",
   "execution_count": 32,
   "id": "3a4233e7",
   "metadata": {},
   "outputs": [],
   "source": [
    "df = spark.read \\\n",
    ".format(\"json\") \\\n",
    ".option(\"header\",\"true\") \\\n",
    ".option(\"inferSchema\",\"true\") \\\n",
    ".load(\"/public/****/datasets/library_data.json\")"
   ]
  },
  {
   "cell_type": "code",
   "execution_count": 33,
   "id": "143c9a91",
   "metadata": {},
   "outputs": [
    {
     "name": "stdout",
     "output_type": "stream",
     "text": [
      "+--------------------+-----------------+-----------+--------------------+\n",
      "|               books|     library_name|   location|             members|\n",
      "+--------------------+-----------------+-----------+--------------------+\n",
      "|[{F. Scott Fitzge...|  Central Library|City Center|[{28, [B001], M00...|\n",
      "|[{George Orwell, ...|Community Library|     Suburb|[{42, [B003, B004...|\n",
      "+--------------------+-----------------+-----------+--------------------+\n",
      "\n"
     ]
    }
   ],
   "source": [
    "df.show()"
   ]
  },
  {
   "cell_type": "code",
   "execution_count": 34,
   "id": "a2be93ac",
   "metadata": {},
   "outputs": [
    {
     "name": "stdout",
     "output_type": "stream",
     "text": [
      "root\n",
      " |-- books: array (nullable = true)\n",
      " |    |-- element: struct (containsNull = true)\n",
      " |    |    |-- author: string (nullable = true)\n",
      " |    |    |-- book_id: string (nullable = true)\n",
      " |    |    |-- book_name: string (nullable = true)\n",
      " |    |    |-- copies_available: long (nullable = true)\n",
      " |-- library_name: string (nullable = true)\n",
      " |-- location: string (nullable = true)\n",
      " |-- members: array (nullable = true)\n",
      " |    |-- element: struct (containsNull = true)\n",
      " |    |    |-- age: long (nullable = true)\n",
      " |    |    |-- books_borrowed: array (nullable = true)\n",
      " |    |    |    |-- element: string (containsNull = true)\n",
      " |    |    |-- member_id: string (nullable = true)\n",
      " |    |    |-- member_name: string (nullable = true)\n",
      "\n"
     ]
    }
   ],
   "source": [
    "df.printSchema()"
   ]
  },
  {
   "cell_type": "code",
   "execution_count": 35,
   "id": "89686931",
   "metadata": {},
   "outputs": [],
   "source": [
    "from pyspark.sql.types import *"
   ]
  },
  {
   "cell_type": "markdown",
   "id": "5ceb3a5f",
   "metadata": {},
   "source": [
    "##### StructType"
   ]
  },
  {
   "cell_type": "code",
   "execution_count": 46,
   "id": "75fc58eb",
   "metadata": {},
   "outputs": [],
   "source": [
    "book_head = StructType([\n",
    "StructField(\"books\",ArrayType(StructType([StructField(\"author\", StringType()),StructField(\"book_id\",StringType()),StructField(\"book_name\",StringType()),StructField(\"copies_available\",LongType())]))),\n",
    "StructField(\"library_name\",StringType()),\n",
    "StructField(\"location\",StringType()),\n",
    "StructField(\"members\",ArrayType(StructType([StructField(\"age\", LongType()),StructField(\"books_borrowed\",ArrayType(StringType())),StructField(\"member_id\",StringType()),StructField(\"member_name\",StringType())]))),\n",
    "])"
   ]
  },
  {
   "cell_type": "code",
   "execution_count": 47,
   "id": "07c137dd",
   "metadata": {},
   "outputs": [],
   "source": [
    "book_df = spark.read.format(\"json\").schema(book_head).load(\"/public/****/datasets/library_data.json\")"
   ]
  },
  {
   "cell_type": "code",
   "execution_count": 48,
   "id": "d28f32dc",
   "metadata": {},
   "outputs": [
    {
     "name": "stdout",
     "output_type": "stream",
     "text": [
      "+--------------------+-----------------+-----------+--------------------+\n",
      "|               books|     library_name|   location|             members|\n",
      "+--------------------+-----------------+-----------+--------------------+\n",
      "|[{F. Scott Fitzge...|  Central Library|City Center|[{28, [B001], M00...|\n",
      "|[{George Orwell, ...|Community Library|     Suburb|[{42, [B003, B004...|\n",
      "+--------------------+-----------------+-----------+--------------------+\n",
      "\n"
     ]
    }
   ],
   "source": [
    "book_df.show()"
   ]
  },
  {
   "cell_type": "code",
   "execution_count": 49,
   "id": "6ab18a52",
   "metadata": {},
   "outputs": [
    {
     "name": "stdout",
     "output_type": "stream",
     "text": [
      "root\n",
      " |-- books: array (nullable = true)\n",
      " |    |-- element: struct (containsNull = true)\n",
      " |    |    |-- author: string (nullable = true)\n",
      " |    |    |-- book_id: string (nullable = true)\n",
      " |    |    |-- book_name: string (nullable = true)\n",
      " |    |    |-- copies_available: long (nullable = true)\n",
      " |-- library_name: string (nullable = true)\n",
      " |-- location: string (nullable = true)\n",
      " |-- members: array (nullable = true)\n",
      " |    |-- element: struct (containsNull = true)\n",
      " |    |    |-- age: long (nullable = true)\n",
      " |    |    |-- books_borrowed: array (nullable = true)\n",
      " |    |    |    |-- element: string (containsNull = true)\n",
      " |    |    |-- member_id: string (nullable = true)\n",
      " |    |    |-- member_name: string (nullable = true)\n",
      "\n"
     ]
    }
   ],
   "source": [
    "book_df.printSchema()"
   ]
  },
  {
   "cell_type": "markdown",
   "id": "715e05d1",
   "metadata": {},
   "source": [
    "### 3a. Create dataframe and drop column passenger_name and age from below data"
   ]
  },
  {
   "cell_type": "code",
   "execution_count": 53,
   "id": "3c3daa82",
   "metadata": {},
   "outputs": [],
   "source": [
    "df = spark.read \\\n",
    ".format(\"csv\") \\\n",
    ".option(\"header\",\"true\") \\\n",
    ".option(\"inferSchema\",\"true\") \\\n",
    ".load(\"/public/****/datasets/train.csv\")"
   ]
  },
  {
   "cell_type": "code",
   "execution_count": 55,
   "id": "1125e5d8",
   "metadata": {},
   "outputs": [
    {
     "name": "stdout",
     "output_type": "stream",
     "text": [
      "+------------+----------+---------------+--------------+---+-------------+-----------+\n",
      "|train_number|train_name|seats_available|passenger_name|age|ticket_number|seat_number|\n",
      "+------------+----------+---------------+--------------+---+-------------+-----------+\n",
      "|         123|   Express|            100|          John| 25|         T123|         A1|\n",
      "|         123|   Express|            100|          Emma| 30|         T124|         B2|\n",
      "+------------+----------+---------------+--------------+---+-------------+-----------+\n",
      "only showing top 2 rows\n",
      "\n"
     ]
    }
   ],
   "source": [
    "df.show(2)"
   ]
  },
  {
   "cell_type": "code",
   "execution_count": 56,
   "id": "5e65d14b",
   "metadata": {},
   "outputs": [
    {
     "name": "stdout",
     "output_type": "stream",
     "text": [
      "root\n",
      " |-- train_number: integer (nullable = true)\n",
      " |-- train_name: string (nullable = true)\n",
      " |-- seats_available: integer (nullable = true)\n",
      " |-- passenger_name: string (nullable = true)\n",
      " |-- age: integer (nullable = true)\n",
      " |-- ticket_number: string (nullable = true)\n",
      " |-- seat_number: string (nullable = true)\n",
      "\n"
     ]
    }
   ],
   "source": [
    "df.printSchema()"
   ]
  },
  {
   "cell_type": "code",
   "execution_count": 60,
   "id": "c32f4195",
   "metadata": {},
   "outputs": [],
   "source": [
    "new_df1 = df.drop(\"passenger_name\",\"age\")"
   ]
  },
  {
   "cell_type": "code",
   "execution_count": 61,
   "id": "54f0bc5c",
   "metadata": {},
   "outputs": [
    {
     "name": "stdout",
     "output_type": "stream",
     "text": [
      "+------------+----------+---------------+-------------+-----------+\n",
      "|train_number|train_name|seats_available|ticket_number|seat_number|\n",
      "+------------+----------+---------------+-------------+-----------+\n",
      "|         123|   Express|            100|         T123|         A1|\n",
      "|         123|   Express|            100|         T124|         B2|\n",
      "|         456| Superfast|            150|         T125|         C3|\n",
      "|         456| Superfast|            150|         T126|         D4|\n",
      "|         789|     Local|             50|         T127|         E5|\n",
      "|         789|     Local|             50|         T128|         F6|\n",
      "|         789|     Local|             50|         T129|         G7|\n",
      "+------------+----------+---------------+-------------+-----------+\n",
      "\n"
     ]
    }
   ],
   "source": [
    "new_df1.show()"
   ]
  },
  {
   "cell_type": "markdown",
   "id": "cb9414b5",
   "metadata": {},
   "source": [
    "### 3b. Remove duplicates from column train_number and ticket_number"
   ]
  },
  {
   "cell_type": "code",
   "execution_count": 76,
   "id": "fbf164f9",
   "metadata": {},
   "outputs": [],
   "source": [
    "new_df2 = new_df1.dropDuplicates([\"train_number\",\"ticket_number\"])"
   ]
  },
  {
   "cell_type": "code",
   "execution_count": 77,
   "id": "9acb0d32",
   "metadata": {},
   "outputs": [
    {
     "name": "stdout",
     "output_type": "stream",
     "text": [
      "+------------+----------+---------------+-------------+-----------+\n",
      "|train_number|train_name|seats_available|ticket_number|seat_number|\n",
      "+------------+----------+---------------+-------------+-----------+\n",
      "|         789|     Local|             50|         T128|         F6|\n",
      "|         123|   Express|            100|         T124|         B2|\n",
      "|         123|   Express|            100|         T123|         A1|\n",
      "|         456| Superfast|            150|         T126|         D4|\n",
      "|         456| Superfast|            150|         T125|         C3|\n",
      "|         789|     Local|             50|         T127|         E5|\n",
      "|         789|     Local|             50|         T129|         G7|\n",
      "+------------+----------+---------------+-------------+-----------+\n",
      "\n"
     ]
    }
   ],
   "source": [
    "new_df2.show()"
   ]
  },
  {
   "cell_type": "code",
   "execution_count": 78,
   "id": "f065c637",
   "metadata": {},
   "outputs": [
    {
     "name": "stdout",
     "output_type": "stream",
     "text": [
      "Number of rows: 7\n"
     ]
    }
   ],
   "source": [
    "number_rows = new_df2.count()\n",
    "print(\"Number of rows:\",number_rows)"
   ]
  },
  {
   "cell_type": "markdown",
   "id": "1bb4f00a",
   "metadata": {},
   "source": [
    "### 3c. Number of unique train names"
   ]
  },
  {
   "cell_type": "code",
   "execution_count": 80,
   "id": "5a8a6ac1",
   "metadata": {},
   "outputs": [
    {
     "name": "stdout",
     "output_type": "stream",
     "text": [
      "Number of unique train names: 3\n"
     ]
    }
   ],
   "source": [
    "train_names = new_df1.dropDuplicates([\"train_name\"])\n",
    "number_train_name = train_names.count()\n",
    "print(\"Number of unique train names:\",number_train_name)"
   ]
  },
  {
   "cell_type": "code",
   "execution_count": null,
   "id": "f07482cd",
   "metadata": {},
   "outputs": [],
   "source": []
  }
 ],
 "metadata": {
  "kernelspec": {
   "display_name": "Pyspark 3",
   "language": "python",
   "name": "pyspark3"
  },
  "language_info": {
   "codemirror_mode": {
    "name": "ipython",
    "version": 3
   },
   "file_extension": ".py",
   "mimetype": "text/x-python",
   "name": "python",
   "nbconvert_exporter": "python",
   "pygments_lexer": "ipython3",
   "version": "3.6.12"
  }
 },
 "nbformat": 4,
 "nbformat_minor": 5
}
